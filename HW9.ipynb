{
  "nbformat": 4,
  "nbformat_minor": 0,
  "metadata": {
    "colab": {
      "provenance": [],
      "authorship_tag": "ABX9TyM0qDUwcnO4FWk/846auvho",
      "include_colab_link": true
    },
    "kernelspec": {
      "name": "python3",
      "display_name": "Python 3"
    },
    "language_info": {
      "name": "python"
    }
  },
  "cells": [
    {
      "cell_type": "markdown",
      "metadata": {
        "id": "view-in-github",
        "colab_type": "text"
      },
      "source": [
        "<a href=\"https://colab.research.google.com/github/zaraasr/KOMGRAF4709/blob/main/HW9.ipynb\" target=\"_parent\"><img src=\"https://colab.research.google.com/assets/colab-badge.svg\" alt=\"Open In Colab\"/></a>"
      ]
    },
    {
      "cell_type": "code",
      "execution_count": null,
      "metadata": {
        "colab": {
          "base_uri": "https://localhost:8080/"
        },
        "id": "IJwCjqtZYPr2",
        "outputId": "26188e1a-d535-46ea-eecd-96294ebdfc65"
      },
      "outputs": [
        {
          "output_type": "stream",
          "name": "stdout",
          "text": [
            "Garis diterima: (1.25, 1) dan (4, 4.666666666666666)\n"
          ]
        }
      ],
      "source": [
        "def computeCode(x, y, xmin, ymin, xmax, ymax):\n",
        "    code = 0\n",
        "\n",
        "    if x < xmin:\n",
        "        code |= 8  # left (binary: 1000)\n",
        "    elif x > xmax:\n",
        "        code |= 4  # right (binary: 0100)\n",
        "    if y < ymin:\n",
        "        code |= 2  # bottom (binary: 0010)\n",
        "    elif y > ymax:\n",
        "        code |= 1  # top (binary: 0001)\n",
        "\n",
        "    return code\n",
        "\n",
        "def cohenSutherland(x1, y1, x2, y2, xmin, ymin, xmax, ymax):\n",
        "    code1 = computeCode(x1, y1, xmin, ymin, xmax, ymax)\n",
        "    code2 = computeCode(x2, y2, xmin, ymin, xmax, ymax)\n",
        "\n",
        "    accept = False\n",
        "\n",
        "    while True:\n",
        "        if code1 == 0 and code2 == 0:\n",
        "            # jika 2 = 0, titik terletak di dalam window\n",
        "            accept = True\n",
        "            break\n",
        "        elif code1 & code2 != 0:\n",
        "            # jika 2 titik tidak = 0, maka dicari titik yg mana yg diluar window\n",
        "            break\n",
        "        else:\n",
        "            # Cari titik yang di luar window\n",
        "            x, y = 0, 0\n",
        "            code_out = code1 if code1 != 0 else code2\n",
        "\n",
        "            if code_out & 8:\n",
        "                x = xmin\n",
        "                y = y1 + (y2 - y1) * (xmin - x1) / (x2 - x1)\n",
        "            elif code_out & 4:\n",
        "                x = xmax\n",
        "                y = y1 + (y2 - y1) * (xmax - x1) / (x2 - x1)\n",
        "            elif code_out & 2:\n",
        "                y = ymin\n",
        "                x = x1 + (x2 - x1) * (ymin - y1) / (y2 - y1)\n",
        "            elif code_out & 1:\n",
        "                y = ymax\n",
        "                x = x1 + (x2 - x1) * (ymax - y1) / (y2 - y1)\n",
        "\n",
        "            # mencari dan mengganti titik yang di luar window dengan titik yang terdekat\n",
        "            # garis yang dihasilkan setelah proses ini akan ter-clipping sesuai dengan batas window yang ditentukan\n",
        "            # Proses terus diulang smp garis sepenuhnya berada di dalam window/sampai terdeteksi bahwa garis ditolak\n",
        "\n",
        "            if code_out == code1:\n",
        "                x1, y1 = x, y\n",
        "                code1 = computeCode(x1, y1, xmin, ymin, xmax, ymax)\n",
        "            else:\n",
        "                x2, y2 = x, y\n",
        "                code2 = computeCode(x2, y2, xmin, ymin, xmax, ymax)\n",
        "\n",
        "    if accept:\n",
        "        print(\"Garis diterima: ({}, {}) dan ({}, {})\".format(x1, y1, x2, y2))\n",
        "    else:\n",
        "        print(\"Garis ditolak.\")\n",
        "\n",
        "# Contoh penggunaan\n",
        "cohenSutherland(-1, -2, 5, 6, 1, 1, 4, 5)\n"
      ]
    }
  ]
}